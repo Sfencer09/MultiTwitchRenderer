{
 "cells": [
  {
   "cell_type": "code",
   "execution_count": null,
   "id": "1cd05377",
   "metadata": {},
   "outputs": [],
   "source": [
    "from MultiTwitchRenderer import *"
   ]
  },
  {
   "cell_type": "code",
   "execution_count": null,
   "id": "5d042f16",
   "metadata": {},
   "outputs": [],
   "source": [
    "#reloadAndSave()\n",
    "#initialize()\n",
    "#loadFiledata(DEFAULT_DATA_FILEPATH+'.bak')\n",
    "#scanFiles(log=True)\n",
    "print(\"Initialization complete!\")\n",
    "\n",
    "#testCommand = generateTilingCommandMultiSegment('ChilledChaos', \"2023-11-30\", f\"/mnt/pool2/media/Twitch Downloads/{outputDirectory}/S1/{outputDirectory} - 2023-11-30 - ChilledChaos.mkv\")\n",
    "#testCommands = generateTilingCommandMultiSegment('ZeRoyalViking', \"2023-06-28\", \n",
    "#testCommands = generateTilingCommandMultiSegment('ChilledChaos', \"2023-12-29\", \n",
    "testCommands = generateTilingCommandMultiSegment('ChilledChaos', '2024-01-17',\n",
    "                                                 RenderConfig(logLevel=3,\n",
    "                                                 #startTimeMode='allOverlapStart',\n",
    "                                                 #endTimeMode='allOverlapEnd',\n",
    "                                                 #useHardwareAcceleration=HW_DECODE,#|HW_INPUT_SCALE,#|HW_ENCODE,#|HW_OUTPUT_SCALE\n",
    "                                                 #sessionTrimLookback=0,#3, #TODO: convert from number of segments to number of seconds. Same for lookahead\n",
    "                                                 #minimumTimeInVideo=1200,\n",
    "                                                 ##minGapSize=1800,\n",
    "                                                 #maxHwaccelFiles=20,\n",
    "                                                 #useChat=False,\n",
    "                                                 #drawLabels=True,\n",
    "                                                  #sessionTrimLookback=1, \n",
    "                                                  #sessionTrimLookahead=-1,\n",
    "                                                  #outputCodec='libx264',\n",
    "                                                  #encodingSpeedPreset='medium',\n",
    "                                                  #useHardwareAcceleration=0, #bitmask; 0=None, bit 1(1)=decode, bit 2(2)=scale input, bit 3(4)=scale output, bit 4(8)=encode\n",
    "                                                  #minimumTimeInVideo=900,\n",
    "                                                  #cutMode='chunked',\n",
    "                                                  #useChat=True,\n",
    "                                                 ))\n",
    "\n",
    "\n",
    "\n",
    "print([extractInputFiles(testCommand) for testCommand in testCommands])\n",
    "print(\"\\n\\n\")\n",
    "for testCommand in testCommands:\n",
    "    if 'ffmpeg' in testCommand[0]:\n",
    "        testCommand.insert(-1, '-y')\n",
    "        testCommand.insert(-1, '-stats_period')\n",
    "        testCommand.insert(-1, '30')\n",
    "        #testCommand.insert(-1, )\n",
    "#print(testCommands)\n",
    "#testCommandString = formatCommand(testCommand)\n",
    "testCommandStrings = [formatCommand(testCommand) for testCommand in testCommands]\n",
    "print(testCommandStrings)\n",
    "def writeCommandStrings(commandList, testNum=None):\n",
    "    if testNum is None:\n",
    "        for i in range(2,1000):\n",
    "            path = f\"/mnt/pool2/media/ffmpeg test{str(i)}.txt\"\n",
    "            if not os.path.isfile(path):\n",
    "                testNum = i\n",
    "    path = f\"/mnt/pool2/media/ffmpeg test{str(testNum)}.txt\"\n",
    "    print(path)\n",
    "    with open(path, 'w') as file:\n",
    "        file.write('\\n'.join(testCommandStrings))\n",
    "        file.write('\\necho \"Render complete!!\"')\n",
    "def writeCommandScript(commandList, testNum=None):\n",
    "    if testNum is None:\n",
    "        for i in range(2,1000):\n",
    "            path = f\"/mnt/pool2/media/ffmpeg test{str(i)}.txt\"\n",
    "            if not os.path.isfile(path):\n",
    "                testNum = i\n",
    "    path = f\"/mnt/pool2/media/ffmpeg test{str(testNum)}.sh\"\n",
    "    print(path)\n",
    "    with open(path, 'w') as file:\n",
    "        file.write(' && \\\\\\n'.join(testCommandStrings))\n",
    "        file.write(' && \\\\\\necho \"Render complete!!\"')\n",
    "\n",
    "#writeCommandStrings(testCommandStrings, 10)\n",
    "#writeCommandScript(testCommandStrings, 11)"
   ]
  },
  {
   "cell_type": "code",
   "execution_count": null,
   "id": "9a301cb0",
   "metadata": {},
   "outputs": [],
   "source": [
    "#pprint(allFilesByVideoId['v2028655388'].parsedChat.groups)\n",
    "#print(allStreamersWithVideos)\n",
    "parsePlayersFromGroupMessage(\"Chilled is playing with AstarriApple, BryceMcQuaid, CheesyBlueNips, DooleyNotedGaming (Jeremy), HeckMuffins, KaraCorvus, KYR_SP33DY, LarryFishburger, VikramAFC, X33N, and ZeRoyalViking!!  \")\n"
   ]
  },
  {
   "cell_type": "code",
   "execution_count": null,
   "id": "7507a2d0",
   "metadata": {},
   "outputs": [],
   "source": []
  }
 ],
 "metadata": {
  "kernelspec": {
   "display_name": "Python 3 (ipykernel)",
   "language": "python",
   "name": "python3"
  },
  "language_info": {
   "codemirror_mode": {
    "name": "ipython",
    "version": 3
   },
   "file_extension": ".py",
   "mimetype": "text/x-python",
   "name": "python",
   "nbconvert_exporter": "python",
   "pygments_lexer": "ipython3",
   "version": "3.11.5"
  }
 },
 "nbformat": 4,
 "nbformat_minor": 5
}
